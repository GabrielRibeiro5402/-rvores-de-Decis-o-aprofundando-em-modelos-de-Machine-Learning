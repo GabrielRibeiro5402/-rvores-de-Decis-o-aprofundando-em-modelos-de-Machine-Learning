{
  "nbformat": 4,
  "nbformat_minor": 0,
  "metadata": {
    "colab": {
      "provenance": [],
      "mount_file_id": "1rYiqvDsOEkep5W3x0fuXGmRSnXgmEyEL",
      "authorship_tag": "ABX9TyNUjqLYT0JM2bm0OFDzwMUP",
      "include_colab_link": true
    },
    "kernelspec": {
      "name": "python3",
      "display_name": "Python 3"
    },
    "language_info": {
      "name": "python"
    }
  },
  "cells": [
    {
      "cell_type": "markdown",
      "metadata": {
        "id": "view-in-github",
        "colab_type": "text"
      },
      "source": [
        "<a href=\"https://colab.research.google.com/github/GabrielRibeiro5402/-rvores-de-Decis-o-aprofundando-em-modelos-de-Machine-Learning/blob/main/Aprofundando_em_%C3%81rvores_de_Decis%C3%A3o_.ipynb\" target=\"_parent\"><img src=\"https://colab.research.google.com/assets/colab-badge.svg\" alt=\"Open In Colab\"/></a>"
      ]
    },
    {
      "cell_type": "markdown",
      "source": [
        "# Obtendo a base de dados\n",
        "\n",
        "---\n",
        "\n"
      ],
      "metadata": {
        "id": "SJJitrTOoJ0i"
      }
    },
    {
      "cell_type": "markdown",
      "source": [
        "## Vamos utilizar uma base de dados de fraude de cartão de crédito, é uma base de dados com dados reais. Ela está disponível no Kaggle.\n",
        "link: (https://www.kaggle.com/datasets/mlg-ulb/creditcardfraud/code)"
      ],
      "metadata": {
        "id": "CCpncvfDoPqo"
      }
    },
    {
      "cell_type": "code",
      "execution_count": 67,
      "metadata": {
        "id": "PVrtW80JryQQ"
      },
      "outputs": [],
      "source": [
        "import pandas as pd"
      ]
    },
    {
      "cell_type": "code",
      "source": [
        "dados = pd.read_csv('/content/drive/MyDrive/creditcard.csv')\n",
        "dados.head()"
      ],
      "metadata": {
        "colab": {
          "base_uri": "https://localhost:8080/",
          "height": 256
        },
        "id": "t6nARuYdrmWz",
        "outputId": "cebbbde2-caed-40cb-9976-deb7cdf28199"
      },
      "execution_count": 68,
      "outputs": [
        {
          "output_type": "execute_result",
          "data": {
            "text/plain": [
              "   Time        V1        V2        V3        V4        V5        V6        V7  \\\n",
              "0   0.0 -1.359807 -0.072781  2.536347  1.378155 -0.338321  0.462388  0.239599   \n",
              "1   0.0  1.191857  0.266151  0.166480  0.448154  0.060018 -0.082361 -0.078803   \n",
              "2   1.0 -1.358354 -1.340163  1.773209  0.379780 -0.503198  1.800499  0.791461   \n",
              "3   1.0 -0.966272 -0.185226  1.792993 -0.863291 -0.010309  1.247203  0.237609   \n",
              "4   2.0 -1.158233  0.877737  1.548718  0.403034 -0.407193  0.095921  0.592941   \n",
              "\n",
              "         V8        V9  ...       V21       V22       V23       V24       V25  \\\n",
              "0  0.098698  0.363787  ... -0.018307  0.277838 -0.110474  0.066928  0.128539   \n",
              "1  0.085102 -0.255425  ... -0.225775 -0.638672  0.101288 -0.339846  0.167170   \n",
              "2  0.247676 -1.514654  ...  0.247998  0.771679  0.909412 -0.689281 -0.327642   \n",
              "3  0.377436 -1.387024  ... -0.108300  0.005274 -0.190321 -1.175575  0.647376   \n",
              "4 -0.270533  0.817739  ... -0.009431  0.798278 -0.137458  0.141267 -0.206010   \n",
              "\n",
              "        V26       V27       V28  Amount  Class  \n",
              "0 -0.189115  0.133558 -0.021053  149.62      0  \n",
              "1  0.125895 -0.008983  0.014724    2.69      0  \n",
              "2 -0.139097 -0.055353 -0.059752  378.66      0  \n",
              "3 -0.221929  0.062723  0.061458  123.50      0  \n",
              "4  0.502292  0.219422  0.215153   69.99      0  \n",
              "\n",
              "[5 rows x 31 columns]"
            ],
            "text/html": [
              "\n",
              "  <div id=\"df-44ee5af1-6462-4f3a-9258-433b88ad6468\" class=\"colab-df-container\">\n",
              "    <div>\n",
              "<style scoped>\n",
              "    .dataframe tbody tr th:only-of-type {\n",
              "        vertical-align: middle;\n",
              "    }\n",
              "\n",
              "    .dataframe tbody tr th {\n",
              "        vertical-align: top;\n",
              "    }\n",
              "\n",
              "    .dataframe thead th {\n",
              "        text-align: right;\n",
              "    }\n",
              "</style>\n",
              "<table border=\"1\" class=\"dataframe\">\n",
              "  <thead>\n",
              "    <tr style=\"text-align: right;\">\n",
              "      <th></th>\n",
              "      <th>Time</th>\n",
              "      <th>V1</th>\n",
              "      <th>V2</th>\n",
              "      <th>V3</th>\n",
              "      <th>V4</th>\n",
              "      <th>V5</th>\n",
              "      <th>V6</th>\n",
              "      <th>V7</th>\n",
              "      <th>V8</th>\n",
              "      <th>V9</th>\n",
              "      <th>...</th>\n",
              "      <th>V21</th>\n",
              "      <th>V22</th>\n",
              "      <th>V23</th>\n",
              "      <th>V24</th>\n",
              "      <th>V25</th>\n",
              "      <th>V26</th>\n",
              "      <th>V27</th>\n",
              "      <th>V28</th>\n",
              "      <th>Amount</th>\n",
              "      <th>Class</th>\n",
              "    </tr>\n",
              "  </thead>\n",
              "  <tbody>\n",
              "    <tr>\n",
              "      <th>0</th>\n",
              "      <td>0.0</td>\n",
              "      <td>-1.359807</td>\n",
              "      <td>-0.072781</td>\n",
              "      <td>2.536347</td>\n",
              "      <td>1.378155</td>\n",
              "      <td>-0.338321</td>\n",
              "      <td>0.462388</td>\n",
              "      <td>0.239599</td>\n",
              "      <td>0.098698</td>\n",
              "      <td>0.363787</td>\n",
              "      <td>...</td>\n",
              "      <td>-0.018307</td>\n",
              "      <td>0.277838</td>\n",
              "      <td>-0.110474</td>\n",
              "      <td>0.066928</td>\n",
              "      <td>0.128539</td>\n",
              "      <td>-0.189115</td>\n",
              "      <td>0.133558</td>\n",
              "      <td>-0.021053</td>\n",
              "      <td>149.62</td>\n",
              "      <td>0</td>\n",
              "    </tr>\n",
              "    <tr>\n",
              "      <th>1</th>\n",
              "      <td>0.0</td>\n",
              "      <td>1.191857</td>\n",
              "      <td>0.266151</td>\n",
              "      <td>0.166480</td>\n",
              "      <td>0.448154</td>\n",
              "      <td>0.060018</td>\n",
              "      <td>-0.082361</td>\n",
              "      <td>-0.078803</td>\n",
              "      <td>0.085102</td>\n",
              "      <td>-0.255425</td>\n",
              "      <td>...</td>\n",
              "      <td>-0.225775</td>\n",
              "      <td>-0.638672</td>\n",
              "      <td>0.101288</td>\n",
              "      <td>-0.339846</td>\n",
              "      <td>0.167170</td>\n",
              "      <td>0.125895</td>\n",
              "      <td>-0.008983</td>\n",
              "      <td>0.014724</td>\n",
              "      <td>2.69</td>\n",
              "      <td>0</td>\n",
              "    </tr>\n",
              "    <tr>\n",
              "      <th>2</th>\n",
              "      <td>1.0</td>\n",
              "      <td>-1.358354</td>\n",
              "      <td>-1.340163</td>\n",
              "      <td>1.773209</td>\n",
              "      <td>0.379780</td>\n",
              "      <td>-0.503198</td>\n",
              "      <td>1.800499</td>\n",
              "      <td>0.791461</td>\n",
              "      <td>0.247676</td>\n",
              "      <td>-1.514654</td>\n",
              "      <td>...</td>\n",
              "      <td>0.247998</td>\n",
              "      <td>0.771679</td>\n",
              "      <td>0.909412</td>\n",
              "      <td>-0.689281</td>\n",
              "      <td>-0.327642</td>\n",
              "      <td>-0.139097</td>\n",
              "      <td>-0.055353</td>\n",
              "      <td>-0.059752</td>\n",
              "      <td>378.66</td>\n",
              "      <td>0</td>\n",
              "    </tr>\n",
              "    <tr>\n",
              "      <th>3</th>\n",
              "      <td>1.0</td>\n",
              "      <td>-0.966272</td>\n",
              "      <td>-0.185226</td>\n",
              "      <td>1.792993</td>\n",
              "      <td>-0.863291</td>\n",
              "      <td>-0.010309</td>\n",
              "      <td>1.247203</td>\n",
              "      <td>0.237609</td>\n",
              "      <td>0.377436</td>\n",
              "      <td>-1.387024</td>\n",
              "      <td>...</td>\n",
              "      <td>-0.108300</td>\n",
              "      <td>0.005274</td>\n",
              "      <td>-0.190321</td>\n",
              "      <td>-1.175575</td>\n",
              "      <td>0.647376</td>\n",
              "      <td>-0.221929</td>\n",
              "      <td>0.062723</td>\n",
              "      <td>0.061458</td>\n",
              "      <td>123.50</td>\n",
              "      <td>0</td>\n",
              "    </tr>\n",
              "    <tr>\n",
              "      <th>4</th>\n",
              "      <td>2.0</td>\n",
              "      <td>-1.158233</td>\n",
              "      <td>0.877737</td>\n",
              "      <td>1.548718</td>\n",
              "      <td>0.403034</td>\n",
              "      <td>-0.407193</td>\n",
              "      <td>0.095921</td>\n",
              "      <td>0.592941</td>\n",
              "      <td>-0.270533</td>\n",
              "      <td>0.817739</td>\n",
              "      <td>...</td>\n",
              "      <td>-0.009431</td>\n",
              "      <td>0.798278</td>\n",
              "      <td>-0.137458</td>\n",
              "      <td>0.141267</td>\n",
              "      <td>-0.206010</td>\n",
              "      <td>0.502292</td>\n",
              "      <td>0.219422</td>\n",
              "      <td>0.215153</td>\n",
              "      <td>69.99</td>\n",
              "      <td>0</td>\n",
              "    </tr>\n",
              "  </tbody>\n",
              "</table>\n",
              "<p>5 rows × 31 columns</p>\n",
              "</div>\n",
              "    <div class=\"colab-df-buttons\">\n",
              "\n",
              "  <div class=\"colab-df-container\">\n",
              "    <button class=\"colab-df-convert\" onclick=\"convertToInteractive('df-44ee5af1-6462-4f3a-9258-433b88ad6468')\"\n",
              "            title=\"Convert this dataframe to an interactive table.\"\n",
              "            style=\"display:none;\">\n",
              "\n",
              "  <svg xmlns=\"http://www.w3.org/2000/svg\" height=\"24px\" viewBox=\"0 -960 960 960\">\n",
              "    <path d=\"M120-120v-720h720v720H120Zm60-500h600v-160H180v160Zm220 220h160v-160H400v160Zm0 220h160v-160H400v160ZM180-400h160v-160H180v160Zm440 0h160v-160H620v160ZM180-180h160v-160H180v160Zm440 0h160v-160H620v160Z\"/>\n",
              "  </svg>\n",
              "    </button>\n",
              "\n",
              "  <style>\n",
              "    .colab-df-container {\n",
              "      display:flex;\n",
              "      gap: 12px;\n",
              "    }\n",
              "\n",
              "    .colab-df-convert {\n",
              "      background-color: #E8F0FE;\n",
              "      border: none;\n",
              "      border-radius: 50%;\n",
              "      cursor: pointer;\n",
              "      display: none;\n",
              "      fill: #1967D2;\n",
              "      height: 32px;\n",
              "      padding: 0 0 0 0;\n",
              "      width: 32px;\n",
              "    }\n",
              "\n",
              "    .colab-df-convert:hover {\n",
              "      background-color: #E2EBFA;\n",
              "      box-shadow: 0px 1px 2px rgba(60, 64, 67, 0.3), 0px 1px 3px 1px rgba(60, 64, 67, 0.15);\n",
              "      fill: #174EA6;\n",
              "    }\n",
              "\n",
              "    .colab-df-buttons div {\n",
              "      margin-bottom: 4px;\n",
              "    }\n",
              "\n",
              "    [theme=dark] .colab-df-convert {\n",
              "      background-color: #3B4455;\n",
              "      fill: #D2E3FC;\n",
              "    }\n",
              "\n",
              "    [theme=dark] .colab-df-convert:hover {\n",
              "      background-color: #434B5C;\n",
              "      box-shadow: 0px 1px 3px 1px rgba(0, 0, 0, 0.15);\n",
              "      filter: drop-shadow(0px 1px 2px rgba(0, 0, 0, 0.3));\n",
              "      fill: #FFFFFF;\n",
              "    }\n",
              "  </style>\n",
              "\n",
              "    <script>\n",
              "      const buttonEl =\n",
              "        document.querySelector('#df-44ee5af1-6462-4f3a-9258-433b88ad6468 button.colab-df-convert');\n",
              "      buttonEl.style.display =\n",
              "        google.colab.kernel.accessAllowed ? 'block' : 'none';\n",
              "\n",
              "      async function convertToInteractive(key) {\n",
              "        const element = document.querySelector('#df-44ee5af1-6462-4f3a-9258-433b88ad6468');\n",
              "        const dataTable =\n",
              "          await google.colab.kernel.invokeFunction('convertToInteractive',\n",
              "                                                    [key], {});\n",
              "        if (!dataTable) return;\n",
              "\n",
              "        const docLinkHtml = 'Like what you see? Visit the ' +\n",
              "          '<a target=\"_blank\" href=https://colab.research.google.com/notebooks/data_table.ipynb>data table notebook</a>'\n",
              "          + ' to learn more about interactive tables.';\n",
              "        element.innerHTML = '';\n",
              "        dataTable['output_type'] = 'display_data';\n",
              "        await google.colab.output.renderOutput(dataTable, element);\n",
              "        const docLink = document.createElement('div');\n",
              "        docLink.innerHTML = docLinkHtml;\n",
              "        element.appendChild(docLink);\n",
              "      }\n",
              "    </script>\n",
              "  </div>\n",
              "\n",
              "\n",
              "<div id=\"df-724d391e-397f-4d13-9fed-2db65eb00b42\">\n",
              "  <button class=\"colab-df-quickchart\" onclick=\"quickchart('df-724d391e-397f-4d13-9fed-2db65eb00b42')\"\n",
              "            title=\"Suggest charts\"\n",
              "            style=\"display:none;\">\n",
              "\n",
              "<svg xmlns=\"http://www.w3.org/2000/svg\" height=\"24px\"viewBox=\"0 0 24 24\"\n",
              "     width=\"24px\">\n",
              "    <g>\n",
              "        <path d=\"M19 3H5c-1.1 0-2 .9-2 2v14c0 1.1.9 2 2 2h14c1.1 0 2-.9 2-2V5c0-1.1-.9-2-2-2zM9 17H7v-7h2v7zm4 0h-2V7h2v10zm4 0h-2v-4h2v4z\"/>\n",
              "    </g>\n",
              "</svg>\n",
              "  </button>\n",
              "\n",
              "<style>\n",
              "  .colab-df-quickchart {\n",
              "      --bg-color: #E8F0FE;\n",
              "      --fill-color: #1967D2;\n",
              "      --hover-bg-color: #E2EBFA;\n",
              "      --hover-fill-color: #174EA6;\n",
              "      --disabled-fill-color: #AAA;\n",
              "      --disabled-bg-color: #DDD;\n",
              "  }\n",
              "\n",
              "  [theme=dark] .colab-df-quickchart {\n",
              "      --bg-color: #3B4455;\n",
              "      --fill-color: #D2E3FC;\n",
              "      --hover-bg-color: #434B5C;\n",
              "      --hover-fill-color: #FFFFFF;\n",
              "      --disabled-bg-color: #3B4455;\n",
              "      --disabled-fill-color: #666;\n",
              "  }\n",
              "\n",
              "  .colab-df-quickchart {\n",
              "    background-color: var(--bg-color);\n",
              "    border: none;\n",
              "    border-radius: 50%;\n",
              "    cursor: pointer;\n",
              "    display: none;\n",
              "    fill: var(--fill-color);\n",
              "    height: 32px;\n",
              "    padding: 0;\n",
              "    width: 32px;\n",
              "  }\n",
              "\n",
              "  .colab-df-quickchart:hover {\n",
              "    background-color: var(--hover-bg-color);\n",
              "    box-shadow: 0 1px 2px rgba(60, 64, 67, 0.3), 0 1px 3px 1px rgba(60, 64, 67, 0.15);\n",
              "    fill: var(--button-hover-fill-color);\n",
              "  }\n",
              "\n",
              "  .colab-df-quickchart-complete:disabled,\n",
              "  .colab-df-quickchart-complete:disabled:hover {\n",
              "    background-color: var(--disabled-bg-color);\n",
              "    fill: var(--disabled-fill-color);\n",
              "    box-shadow: none;\n",
              "  }\n",
              "\n",
              "  .colab-df-spinner {\n",
              "    border: 2px solid var(--fill-color);\n",
              "    border-color: transparent;\n",
              "    border-bottom-color: var(--fill-color);\n",
              "    animation:\n",
              "      spin 1s steps(1) infinite;\n",
              "  }\n",
              "\n",
              "  @keyframes spin {\n",
              "    0% {\n",
              "      border-color: transparent;\n",
              "      border-bottom-color: var(--fill-color);\n",
              "      border-left-color: var(--fill-color);\n",
              "    }\n",
              "    20% {\n",
              "      border-color: transparent;\n",
              "      border-left-color: var(--fill-color);\n",
              "      border-top-color: var(--fill-color);\n",
              "    }\n",
              "    30% {\n",
              "      border-color: transparent;\n",
              "      border-left-color: var(--fill-color);\n",
              "      border-top-color: var(--fill-color);\n",
              "      border-right-color: var(--fill-color);\n",
              "    }\n",
              "    40% {\n",
              "      border-color: transparent;\n",
              "      border-right-color: var(--fill-color);\n",
              "      border-top-color: var(--fill-color);\n",
              "    }\n",
              "    60% {\n",
              "      border-color: transparent;\n",
              "      border-right-color: var(--fill-color);\n",
              "    }\n",
              "    80% {\n",
              "      border-color: transparent;\n",
              "      border-right-color: var(--fill-color);\n",
              "      border-bottom-color: var(--fill-color);\n",
              "    }\n",
              "    90% {\n",
              "      border-color: transparent;\n",
              "      border-bottom-color: var(--fill-color);\n",
              "    }\n",
              "  }\n",
              "</style>\n",
              "\n",
              "  <script>\n",
              "    async function quickchart(key) {\n",
              "      const quickchartButtonEl =\n",
              "        document.querySelector('#' + key + ' button');\n",
              "      quickchartButtonEl.disabled = true;  // To prevent multiple clicks.\n",
              "      quickchartButtonEl.classList.add('colab-df-spinner');\n",
              "      try {\n",
              "        const charts = await google.colab.kernel.invokeFunction(\n",
              "            'suggestCharts', [key], {});\n",
              "      } catch (error) {\n",
              "        console.error('Error during call to suggestCharts:', error);\n",
              "      }\n",
              "      quickchartButtonEl.classList.remove('colab-df-spinner');\n",
              "      quickchartButtonEl.classList.add('colab-df-quickchart-complete');\n",
              "    }\n",
              "    (() => {\n",
              "      let quickchartButtonEl =\n",
              "        document.querySelector('#df-724d391e-397f-4d13-9fed-2db65eb00b42 button');\n",
              "      quickchartButtonEl.style.display =\n",
              "        google.colab.kernel.accessAllowed ? 'block' : 'none';\n",
              "    })();\n",
              "  </script>\n",
              "</div>\n",
              "\n",
              "    </div>\n",
              "  </div>\n"
            ],
            "application/vnd.google.colaboratory.intrinsic+json": {
              "type": "dataframe",
              "variable_name": "dados"
            }
          },
          "metadata": {},
          "execution_count": 68
        }
      ]
    },
    {
      "cell_type": "markdown",
      "source": [
        "#  Analisando a base de dados\n",
        "\n",
        "---\n",
        "\n"
      ],
      "metadata": {
        "id": "ZFiTq7dNr8o3"
      }
    },
    {
      "cell_type": "markdown",
      "source": [
        "## O próximo passo agora vai ser fazermos uma análise breve desses nossos dados para entendermos um pouco com o que estamos trabalhando. Já sabemos um pouco do contexto desses dados, agora vamos fazer uma pequena análise."
      ],
      "metadata": {
        "id": "HAqlJ7ZWsDgV"
      }
    },
    {
      "cell_type": "code",
      "source": [
        "dados.isna().sum()"
      ],
      "metadata": {
        "colab": {
          "base_uri": "https://localhost:8080/"
        },
        "id": "7RxYllVRrwLx",
        "outputId": "c6bde645-7f9d-4415-a3da-4c52b32442b4"
      },
      "execution_count": 69,
      "outputs": [
        {
          "output_type": "execute_result",
          "data": {
            "text/plain": [
              "Time      0\n",
              "V1        0\n",
              "V2        0\n",
              "V3        0\n",
              "V4        0\n",
              "V5        0\n",
              "V6        0\n",
              "V7        0\n",
              "V8        0\n",
              "V9        0\n",
              "V10       0\n",
              "V11       0\n",
              "V12       0\n",
              "V13       0\n",
              "V14       0\n",
              "V15       0\n",
              "V16       0\n",
              "V17       0\n",
              "V18       0\n",
              "V19       0\n",
              "V20       0\n",
              "V21       0\n",
              "V22       0\n",
              "V23       0\n",
              "V24       0\n",
              "V25       0\n",
              "V26       0\n",
              "V27       0\n",
              "V28       0\n",
              "Amount    0\n",
              "Class     0\n",
              "dtype: int64"
            ]
          },
          "metadata": {},
          "execution_count": 69
        }
      ]
    },
    {
      "cell_type": "code",
      "source": [
        "n_transacoes = dados['Class'].count()\n",
        "n_fraudes = dados['Class'].sum()\n",
        "n_normais = n_transacoes - n_fraudes\n",
        "fraudes_porc = (n_fraudes/n_transacoes)*100\n",
        "normais_porc = (n_normais/n_transacoes)*100\n",
        "\n",
        "print(f'Numero de Transações: {n_transacoes}')\n",
        "print(f'Numero de Fraudes: {n_fraudes}, {fraudes_porc :.2f}%')\n",
        "print(f'Numero de Transações normais: {n_normais}, {normais_porc:.2f}%')"
      ],
      "metadata": {
        "colab": {
          "base_uri": "https://localhost:8080/"
        },
        "id": "08h7Y5QxsqGk",
        "outputId": "a255becc-babe-4f19-984e-3f2e0acd8add"
      },
      "execution_count": 70,
      "outputs": [
        {
          "output_type": "stream",
          "name": "stdout",
          "text": [
            "Numero de Transações: 284807\n",
            "Numero de Fraudes: 492, 0.17%\n",
            "Numero de Transações normais: 284315, 99.83%\n"
          ]
        }
      ]
    },
    {
      "cell_type": "markdown",
      "source": [
        "# Criando uma árvore de decisão com o scikit-learn\n",
        "\n",
        "---\n",
        "\n"
      ],
      "metadata": {
        "id": "htg0TRai3Run"
      }
    },
    {
      "cell_type": "markdown",
      "source": [
        "## O próximo passo para criamos nossa árvore é dividirmos os nossos dados entre dados de treino, que serão usados para construir o nosso modelo; e dados de teste, que serão usados para testar o nosso modelo e vermos se ele está bom. Então, primeiro vamos fazer essa divisão, de fato."
      ],
      "metadata": {
        "id": "VRkIOuLE3XDZ"
      }
    },
    {
      "cell_type": "code",
      "source": [
        "from sklearn.model_selection import StratifiedShuffleSplit\n",
        "\n",
        "def executar_validador(X, y):\n",
        "  validador = StratifiedShuffleSplit(n_splits= 1, test_size = 0.1, random_state=0)\n",
        "  for train_id, test_id, in validador.split(X, y):\n",
        "    X_train, X_test = X[train_id], X[test_id]\n",
        "    y_train, y_test = y[train_id], y[test_id]\n",
        "  return X_train, X_test, y_train, y_test"
      ],
      "metadata": {
        "id": "kuxjH3wW2l0D"
      },
      "execution_count": 71,
      "outputs": []
    },
    {
      "cell_type": "code",
      "source": [
        "%%time\n",
        "from sklearn import tree\n",
        "\n",
        "def executar_classificador(classificador, X_train, X_test, y_train):\n",
        "  arvore = classificador.fit(X_train, y_train)\n",
        "  y_pred = arvore.predict(X_test)\n",
        "  return y_pred"
      ],
      "metadata": {
        "colab": {
          "base_uri": "https://localhost:8080/"
        },
        "id": "p3s5Mt9b4bg-",
        "outputId": "56f9122d-b201-493d-b738-772e0c35e0af"
      },
      "execution_count": 72,
      "outputs": [
        {
          "output_type": "stream",
          "name": "stdout",
          "text": [
            "CPU times: user 14 µs, sys: 0 ns, total: 14 µs\n",
            "Wall time: 17.6 µs\n"
          ]
        }
      ]
    },
    {
      "cell_type": "code",
      "source": [
        "#Execução do validador\n",
        "X = dados.drop('Class', axis= 1).values\n",
        "y = dados['Class']\n",
        "X_train, X_test, y_train, y_test = executar_validador(X, y)"
      ],
      "metadata": {
        "id": "gatoAPV24iky"
      },
      "execution_count": 73,
      "outputs": []
    },
    {
      "cell_type": "code",
      "source": [
        "#Execução do classificador DecissionTreeClassifier\n",
        "classificador_arvore_decisao = tree.DecisionTreeClassifier()\n",
        "y_pred_arvore_decisao = executar_classificador(classificador_arvore_decisao, X_train, X_test, y_train)"
      ],
      "metadata": {
        "id": "yfc58C3oDzyc"
      },
      "execution_count": 74,
      "outputs": []
    },
    {
      "cell_type": "markdown",
      "source": [
        "# Gerando uma imagem da árvore\n",
        "\n",
        "---\n",
        "\n"
      ],
      "metadata": {
        "id": "GwedbCcT6btj"
      }
    },
    {
      "cell_type": "code",
      "source": [
        "import matplotlib.pyplot as plt\n",
        "\n",
        "def salvar_arvore(classificador, nome):\n",
        "  plt.figure(figsize=(200,100))\n",
        "  tree.plot_tree(classificador, filled=True, fontsize= 14)\n",
        "  plt.savefig(nome)\n",
        "  plt.close()"
      ],
      "metadata": {
        "id": "2bjxm_ysDO4S"
      },
      "execution_count": 75,
      "outputs": []
    },
    {
      "cell_type": "code",
      "source": [
        "#Criaçào da figura da Arvore de Decisão\n",
        "salvar_arvore(classificador_arvore_decisao, 'arvore_decisao1.png')"
      ],
      "metadata": {
        "id": "WL6IOT0lEl-m"
      },
      "execution_count": 76,
      "outputs": []
    },
    {
      "cell_type": "markdown",
      "source": [
        "# Medindo a acurácia da árvore\n",
        "\n",
        "---\n",
        "\n"
      ],
      "metadata": {
        "id": "niqxDqWFH_Pc"
      }
    },
    {
      "cell_type": "code",
      "source": [
        "from sklearn.metrics import accuracy_score\n",
        "\n",
        "def validar_arvore(y_test, y_pred):\n",
        "  print(accuracy_score(y_test, y_pred))"
      ],
      "metadata": {
        "id": "LHM2F6ad6dQC"
      },
      "execution_count": 77,
      "outputs": []
    },
    {
      "cell_type": "code",
      "source": [
        "#validacao da arvore de decisao\n",
        "validar_arvore(y_test, y_pred_arvore_decisao)"
      ],
      "metadata": {
        "colab": {
          "base_uri": "https://localhost:8080/"
        },
        "id": "CQom4xfkJqza",
        "outputId": "1e28fbf6-11a5-4586-e6e6-0020eea8f8f6"
      },
      "execution_count": 78,
      "outputs": [
        {
          "output_type": "stream",
          "name": "stdout",
          "text": [
            "0.9990871107053826\n"
          ]
        }
      ]
    },
    {
      "cell_type": "markdown",
      "source": [
        "A acurácia vai de 0 a 1 e está dizendo que conseguimos uma acurácia de 0.99%. Parece ser muito bom. 0.99, que entre 0 e 100% seria 99%. Então para analisarmos melhor e entendermos se isso é realmente muito bom, vamos colocar também a matriz de confusão."
      ],
      "metadata": {
        "id": "wL3VR1YFKsxT"
      }
    },
    {
      "cell_type": "markdown",
      "source": [
        "# Matriz de confusão\n",
        "\n",
        "---\n",
        "\n"
      ],
      "metadata": {
        "id": "784d_1naK7W2"
      }
    },
    {
      "cell_type": "markdown",
      "source": [
        "A matriz de confusão diz exatamente quantas transações foram classificadas corretamente, quantas dessas transações eram transações com fraude, quantas dessas transações eram transações sem fraude. Então ela nós dá exatamente esses valores e a partir desses valores que é calculada a acurácia."
      ],
      "metadata": {
        "id": "hth3GVJcK-Wq"
      }
    },
    {
      "cell_type": "code",
      "source": [
        "from sklearn.metrics import confusion_matrix\n",
        "\n",
        "def validar_arvore(y_test, y_pred):\n",
        "  print(confusion_matrix(y_test, y_pred))"
      ],
      "metadata": {
        "id": "UjPcS0dUJ1MQ"
      },
      "execution_count": 79,
      "outputs": []
    },
    {
      "cell_type": "code",
      "source": [
        "validar_arvore(y_test, y_pred_arvore_decisao)"
      ],
      "metadata": {
        "colab": {
          "base_uri": "https://localhost:8080/"
        },
        "id": "7oJZIaUwLc07",
        "outputId": "5d27375e-1e49-4f9b-8242-d5e5541aee2f"
      },
      "execution_count": 80,
      "outputs": [
        {
          "output_type": "stream",
          "name": "stdout",
          "text": [
            "[[28420    12]\n",
            " [   14    35]]\n"
          ]
        }
      ]
    },
    {
      "cell_type": "markdown",
      "source": [
        "Então a partir daqui conseguimos saber qual foi o número de acertos y_pred. Para calcularmos o número de acertos, somamos 28.419 com 36, que são a soma das transações sem fraude e com fraude. Então, com isso, chegamos no nosso resultado final, que é aquele de 0.99 que vimos antes, ou seja 99% de acerto."
      ],
      "metadata": {
        "id": "PiRmlQwPMhFg"
      }
    },
    {
      "cell_type": "markdown",
      "source": [
        "![image.png](data:image/png;base64,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)"
      ],
      "metadata": {
        "id": "MzQdUin6L6-U"
      }
    },
    {
      "cell_type": "markdown",
      "source": [
        "Mas podemos ver que 13 das transações com fraude de 36 não representa 99%. Se formos considerar só as transações com fraude, não tivemos 99% de acerto. Se considerarmos todas as transações como a acurácia faz, tudo bem, mas eu não consigo diferenciar. Isso acontece por causa do desbalanceamento dos nossos dados. Por isso se deve usar de outras métricas para avaliar."
      ],
      "metadata": {
        "id": "3dGiHSNkMpUz"
      }
    },
    {
      "cell_type": "markdown",
      "source": [
        "#  Medindo além da acurácia\n",
        "\n",
        "---\n",
        "\n"
      ],
      "metadata": {
        "id": "zoWAz6rsM25e"
      }
    },
    {
      "cell_type": "markdown",
      "source": [
        "## Calculando a precisão\n",
        "\n",
        "Então temos a classificação real, com fraude, e temos a classificação que foi prevista pela nossa árvore de decisão. Então para calcularmos a precisão, fazemos o número de acertos com fraude dividido pelo número de transações com fraude."
      ],
      "metadata": {
        "id": "gh9bDMP9Oe-T"
      }
    },
    {
      "cell_type": "markdown",
      "source": [
        "![precisão.jpg](data:image/jpeg;base64,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)"
      ],
      "metadata": {
        "id": "f7BE2TZdPC2U"
      }
    },
    {
      "cell_type": "code",
      "source": [
        "from sklearn.metrics import precision_score\n",
        "\n",
        "def validar_arvore(y_test, y_pred):\n",
        "  print(precision_score(y_test, y_pred))"
      ],
      "metadata": {
        "id": "SAFPcWmmL8Vs"
      },
      "execution_count": 81,
      "outputs": []
    },
    {
      "cell_type": "code",
      "source": [
        "validar_arvore(y_test, y_pred_arvore_decisao)"
      ],
      "metadata": {
        "colab": {
          "base_uri": "https://localhost:8080/"
        },
        "id": "libRf1WPNa3N",
        "outputId": "d6c42258-e567-4fa2-ab8c-29fe4b654b0e"
      },
      "execution_count": 82,
      "outputs": [
        {
          "output_type": "stream",
          "name": "stdout",
          "text": [
            "0.7446808510638298\n"
          ]
        }
      ]
    },
    {
      "cell_type": "markdown",
      "source": [
        "Para conseguirmos 100%, classificamos todas as transações do nosso conjunto como transações com fraude, ou seja, acertamos todas as transações com fraude, mas também acabamos classificando muitas transações que não são fraudes como fraudes.\n",
        "Então é por isso que utilizamos outra métrica também e geralmente a precisão é usada em conjunto com essa métrica, que é chamada de `recall`. Então vamos ver como funciona o `recall`."
      ],
      "metadata": {
        "id": "MGt2FINAQGKJ"
      }
    },
    {
      "cell_type": "markdown",
      "source": [
        "## Calculando recall\n",
        "\n",
        "Basicamente, nós temos a classificação prevista pela árvore de decisão, somente as com fraude de novo. Então vamos fazer o número de acertos das transações com fraude pelo número de transações que foram classificadas como fraudes."
      ],
      "metadata": {
        "id": "a3ZwmojOPROP"
      }
    },
    {
      "cell_type": "markdown",
      "source": [
        "![recall.jpg](data:image/jpeg;base64,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)"
      ],
      "metadata": {
        "id": "4ZY6udM0PzNX"
      }
    },
    {
      "cell_type": "code",
      "source": [
        "from sklearn.metrics import recall_score\n",
        "\n",
        "def validar_arvore(y_test, y_pred):\n",
        "  print(recall_score(y_test, y_pred))"
      ],
      "metadata": {
        "id": "Iz4IRgMxOGbR"
      },
      "execution_count": 83,
      "outputs": []
    },
    {
      "cell_type": "code",
      "source": [
        "validar_arvore(y_test, y_pred_arvore_decisao)"
      ],
      "metadata": {
        "colab": {
          "base_uri": "https://localhost:8080/"
        },
        "id": "DX6k9XmrOMTY",
        "outputId": "2da73f35-ee59-4f1c-c76f-a908b596baea"
      },
      "execution_count": 84,
      "outputs": [
        {
          "output_type": "stream",
          "name": "stdout",
          "text": [
            "0.7142857142857143\n"
          ]
        }
      ]
    },
    {
      "cell_type": "markdown",
      "source": [
        "E temos o valor de **75** de `recall`. **69%** de `precisão` e **75%** de `recall`. Então esses são os valores finais. Podemos ver que essas métricas, tirando a acurácia, são medianas, são valores que vão de 0 a 1 e são valores bons, não são valores ruins, mas podemos melhorar ainda mais esses valores se entendermos um pouco mais algumas características da nossa árvore de decisão."
      ],
      "metadata": {
        "id": "9ajyNqFvQqCp"
      }
    },
    {
      "cell_type": "markdown",
      "source": [
        "# Analisando as características da árvore\n",
        "\n",
        "---\n",
        "\n"
      ],
      "metadata": {
        "id": "OCLuXNG9SW7w"
      }
    },
    {
      "cell_type": "code",
      "source": [
        "print(classificador_arvore_decisao.get_depth())"
      ],
      "metadata": {
        "colab": {
          "base_uri": "https://localhost:8080/"
        },
        "id": "elAr9LjzQxoR",
        "outputId": "6b741303-ab39-482e-e8c9-54c761a18550"
      },
      "execution_count": 85,
      "outputs": [
        {
          "output_type": "stream",
          "name": "stdout",
          "text": [
            "21\n"
          ]
        }
      ]
    },
    {
      "cell_type": "markdown",
      "source": [
        "Podemos ver que a profundidade da árvore é igual a 21, ou seja, é considerada uma profundidade grande. Não conseguimos definir qual é o parâmetro ideal de profundidade da árvore, não temos um parâmetro ideal para isso."
      ],
      "metadata": {
        "id": "lplPHcX6xJV1"
      }
    },
    {
      "cell_type": "code",
      "source": [
        "%%time\n",
        "\n",
        "#Execução do classificador DecissionTreeClassifier\n",
        "classificador_arvore_decisao = tree.DecisionTreeClassifier(max_depth=10, random_state=0)\n",
        "y_pred_arvore_decisao = executar_classificador(classificador_arvore_decisao, X_train, X_test, y_train)"
      ],
      "metadata": {
        "id": "tsIZC3aHSbkT",
        "colab": {
          "base_uri": "https://localhost:8080/"
        },
        "outputId": "64f4ea81-fb11-4557-815f-99c910168158"
      },
      "execution_count": 92,
      "outputs": [
        {
          "output_type": "stream",
          "name": "stdout",
          "text": [
            "CPU times: user 19.6 s, sys: 22.9 ms, total: 19.6 s\n",
            "Wall time: 22.1 s\n"
          ]
        }
      ]
    },
    {
      "cell_type": "markdown",
      "source": [
        "Então vamos mudar esse parâmetro 10. Criaremos uma nova cédula, agora em cima, vamos copiar toda a parte da execução do classificador. Só que agora vamos passar como parâmetro, max_depht = 10.\n",
        "\n",
        "\n",
        "---\n",
        "\n",
        "\n",
        "E outra coisa que podemos fazer também é o random_state, para garantirmos que teremos os mesmos valores. Vamos executar nosso classificador. Por enquanto, já vou copiar a cédula referente a validação da árvore."
      ],
      "metadata": {
        "id": "a8Sk5L1IxVfp"
      }
    },
    {
      "cell_type": "code",
      "source": [
        "from sklearn.metrics import accuracy_score\n",
        "from sklearn.metrics import confusion_matrix\n",
        "from sklearn.metrics import precision_score\n",
        "from sklearn.metrics import recall_score\n",
        "\n",
        "def validar_arvore(y_test, y_pred):\n",
        "  print(accuracy_score(y_test, y_pred))\n",
        "  print(precision_score(y_test, y_pred))\n",
        "  print(recall_score(y_test, y_pred))\n",
        "  print(confusion_matrix(y_test, y_pred))\n",
        ""
      ],
      "metadata": {
        "id": "o7Ck1z79vVtV"
      },
      "execution_count": 87,
      "outputs": []
    },
    {
      "cell_type": "code",
      "source": [
        "validar_arvore(y_test, y_pred_arvore_decisao)"
      ],
      "metadata": {
        "colab": {
          "base_uri": "https://localhost:8080/"
        },
        "id": "xqnS_sr2vpAG",
        "outputId": "81fbc23c-b538-4fda-ba42-f55feefd4673"
      },
      "execution_count": 88,
      "outputs": [
        {
          "output_type": "stream",
          "name": "stdout",
          "text": [
            "0.9994733330992591\n",
            "0.9473684210526315\n",
            "0.7346938775510204\n",
            "[[28430     2]\n",
            " [   13    36]]\n"
          ]
        }
      ]
    },
    {
      "cell_type": "markdown",
      "source": [
        "Já podemos ver que melhoramos bastnte porem o nosso `recall` piorou vamos tenatar melhorar."
      ],
      "metadata": {
        "id": "C50CHw7XxcbU"
      }
    },
    {
      "cell_type": "code",
      "source": [
        "#Execução do classificador DecissionTreeClassifier\n",
        "classificador_arvore_decisao = tree.DecisionTreeClassifier(max_depth=10, random_state=0, min_samples_leaf=10)\n",
        "y_pred_arvore_decisao = executar_classificador(classificador_arvore_decisao, X_train, X_test, y_train)"
      ],
      "metadata": {
        "id": "JtrTdr0Uws4h"
      },
      "execution_count": 89,
      "outputs": []
    },
    {
      "cell_type": "markdown",
      "source": [
        "Vamos colocar mais um parâmetro, vamos digitar o `min_samples_leaf=10`, que vai definir qual é o número mínimo de instâncias, no nosso caso de transações, que eu tenho que ter em cada folha sempre. Vamos definir o mínimo como 10.\n"
      ],
      "metadata": {
        "id": "-s2ft4G9xzW-"
      }
    },
    {
      "cell_type": "code",
      "source": [
        "validar_arvore(y_test, y_pred_arvore_decisao)"
      ],
      "metadata": {
        "colab": {
          "base_uri": "https://localhost:8080/"
        },
        "id": "aLkRstLdw-wR",
        "outputId": "42f053ee-73c8-46f5-a13c-87fd0fb5b658"
      },
      "execution_count": 90,
      "outputs": [
        {
          "output_type": "stream",
          "name": "stdout",
          "text": [
            "0.9993679997191109\n",
            "0.8604651162790697\n",
            "0.7551020408163265\n",
            "[[28426     6]\n",
            " [   12    37]]\n"
          ]
        }
      ]
    },
    {
      "cell_type": "markdown",
      "source": [
        "Podemos ver que o `recall` melhorou um pouco, mas mesmo assim, agora o que acontece é que o `precision` piorou! Então, no caso, forçar a árvore até no mínimo 10 transações em cada nó não foi uma boa escolha, então podemos ignorar esse parâmetro nesse caso específico."
      ],
      "metadata": {
        "id": "MJkHHrxWyAcw"
      }
    },
    {
      "cell_type": "markdown",
      "source": [
        "# Aprendendo o que são os modelos ensemble\n",
        "\n",
        "---\n",
        "\n",
        "Vimos que uma árvore com grande profundidade pode levar ao ***overfit***, que é quando o modelo fica muito especializado nos dados de treinamento que estamos utilizando.\n",
        "\n",
        "Estamos trabalhando com transações de dois dias, poderíamos trabalhar com transações de 10 dias, 30 dias, então teríamos muito mais que 284 mil transações na nossa base de dados. Tudo isso faria que o nosso problema fosse mais complexo e que precisássemos de um algoritmo mais robusto para resolvermos o nosso problema, para conseguirmos detectar uma maior quantidade de transações com fraude e detectar as transações corretamente.\n",
        "\n",
        "Então, como que poderíamos fazer isso? Uma das alternativas que existem para fazermos isso são modelos mais complexos, é utilizando o que chamamos de `ensemble learning` - **que é quando utilizamos múltiplos modelos; no nosso caso, múltiplas árvores de decisão. Essas árvores são simples e uma complementa a outra para ajudar a obter overfit e ajudar a melhorar os resultados.**"
      ],
      "metadata": {
        "id": "GcJPV3Ftyaqb"
      }
    },
    {
      "cell_type": "markdown",
      "source": [
        "# Executando o Random Forest com o scikit-learn\n",
        "\n",
        "---\n",
        "Vamos colocar a mão na massa e vamos implementar o random forest utilizando o scikit-learn. Então vamos lá. Primeiro passo vamos criar uma cédula nova e vamos importar `from sklearn.ensemble import RandomForestClassifier.`\n",
        "\n",
        "Vamos passar como parâmetro o número de estimadores igual a 100, que nada mais é que o número de árvores que vamos criar:` (n_estimators=100).`"
      ],
      "metadata": {
        "id": "PAHP8tqN0IiK"
      }
    },
    {
      "cell_type": "code",
      "source": [
        "%%time\n",
        "from sklearn.ensemble import RandomForestClassifier\n",
        "\n",
        "classificador_random_forest = RandomForestClassifier(n_estimators=100, random_state = 0)\n",
        "y_pred_random_forest = executar_classificador(classificador_random_forest, X_train, X_test, y_train)"
      ],
      "metadata": {
        "colab": {
          "base_uri": "https://localhost:8080/"
        },
        "id": "Du-ceWMK0IBc",
        "outputId": "3308842a-0597-40dc-cc94-79a65ba69d71"
      },
      "execution_count": 95,
      "outputs": [
        {
          "output_type": "stream",
          "name": "stdout",
          "text": [
            "CPU times: user 6min 37s, sys: 470 ms, total: 6min 37s\n",
            "Wall time: 7min 9s\n"
          ]
        }
      ]
    },
    {
      "cell_type": "code",
      "source": [
        "salvar_arvore(classificador_random_forest.estimators_[0], 'random_forest1')\n",
        "salvar_arvore(classificador_random_forest.estimators_[1], 'random_forest2')"
      ],
      "metadata": {
        "id": "MMRtn-AAzaOj"
      },
      "execution_count": 96,
      "outputs": []
    },
    {
      "cell_type": "code",
      "source": [
        "validar_arvore(y_test, y_pred_random_forest)"
      ],
      "metadata": {
        "colab": {
          "base_uri": "https://localhost:8080/"
        },
        "id": "9aAc519gHb_L",
        "outputId": "8c2ac870-520d-4b26-9973-b5e71bbab65e"
      },
      "execution_count": 97,
      "outputs": [
        {
          "output_type": "stream",
          "name": "stdout",
          "text": [
            "0.9995084442259752\n",
            "0.9487179487179487\n",
            "0.7551020408163265\n",
            "[[28430     2]\n",
            " [   12    37]]\n"
          ]
        }
      ]
    },
    {
      "cell_type": "code",
      "source": [
        "%%time\n",
        "from sklearn.ensemble import RandomForestClassifier\n",
        "\n",
        "classificador_random_forest = RandomForestClassifier(max_depth=10, n_estimators=50, random_state = 0)\n",
        "y_pred_random_forest = executar_classificador(classificador_random_forest, X_train, X_test, y_train)"
      ],
      "metadata": {
        "colab": {
          "base_uri": "https://localhost:8080/"
        },
        "id": "rMbhod0ZH6w1",
        "outputId": "c831792e-7d9a-450b-c7ea-c0a53926f7ad"
      },
      "execution_count": 98,
      "outputs": [
        {
          "output_type": "stream",
          "name": "stdout",
          "text": [
            "CPU times: user 1min 59s, sys: 152 ms, total: 1min 59s\n",
            "Wall time: 2min 3s\n"
          ]
        }
      ]
    },
    {
      "cell_type": "code",
      "source": [
        "validar_arvore(y_test, y_pred_random_forest)"
      ],
      "metadata": {
        "colab": {
          "base_uri": "https://localhost:8080/"
        },
        "id": "YrpGyzX4H6k4",
        "outputId": "2cc81616-fe33-4570-b6e9-7e0272255f0a"
      },
      "execution_count": 99,
      "outputs": [
        {
          "output_type": "stream",
          "name": "stdout",
          "text": [
            "0.9995435553526912\n",
            "0.9736842105263158\n",
            "0.7551020408163265\n",
            "[[28431     1]\n",
            " [   12    37]]\n"
          ]
        }
      ]
    },
    {
      "cell_type": "markdown",
      "source": [
        "Conseguimos ver que o resultado de `recall` ficou a mesma coisa, mas conseguimos uma boa melhora no resultado de `precisão`, de **0.94** para **0.97**. Então já conseguimos melhorar um pouco. Além disso, nós conseguimos um tempo muito menor."
      ],
      "metadata": {
        "id": "hk9l4TKeJXDC"
      }
    },
    {
      "cell_type": "markdown",
      "source": [
        "#  Executando o AdaBoost com o scikit-learn\n",
        "\n",
        "---\n",
        "\n"
      ],
      "metadata": {
        "id": "KmG_4Bg2QYLI"
      }
    },
    {
      "cell_type": "markdown",
      "source": [
        "Vamos criar uma variável para o `adaboost`, primeiro temos que importar o `adaboost`. Então digitamos `from sklearn.ensemble import adaboostClassifier` Código in-line. Então vamos agora chamar o `adaboostClassifier`, vamos chamar o `random state`."
      ],
      "metadata": {
        "id": "gU6I_dApTPj4"
      }
    },
    {
      "cell_type": "code",
      "source": [
        "%%time\n",
        "from sklearn.ensemble import AdaBoostClassifier\n",
        "\n",
        "classificador_adaboost = AdaBoostClassifier(random_state=0)\n",
        "y_pred_adaboost = executar_classificador(classificador_adaboost, X_train, X_test, y_train)"
      ],
      "metadata": {
        "colab": {
          "base_uri": "https://localhost:8080/"
        },
        "id": "P0sVxIs9JX6f",
        "outputId": "ecb69c91-4987-477a-fc04-430bed107ddd"
      },
      "execution_count": 100,
      "outputs": [
        {
          "output_type": "stream",
          "name": "stdout",
          "text": [
            "CPU times: user 1min 48s, sys: 114 ms, total: 1min 48s\n",
            "Wall time: 1min 50s\n"
          ]
        }
      ]
    },
    {
      "cell_type": "code",
      "source": [
        "validar_arvore(y_test, y_pred_adaboost)"
      ],
      "metadata": {
        "colab": {
          "base_uri": "https://localhost:8080/"
        },
        "id": "buXUAzHLQ603",
        "outputId": "cdd2336b-0516-4c9b-c747-e29001c20077"
      },
      "execution_count": 101,
      "outputs": [
        {
          "output_type": "stream",
          "name": "stdout",
          "text": [
            "0.9992626663389628\n",
            "0.8888888888888888\n",
            "0.6530612244897959\n",
            "[[28428     4]\n",
            " [   17    32]]\n"
          ]
        }
      ]
    },
    {
      "cell_type": "code",
      "source": [
        "%%time\n",
        "from sklearn.ensemble import AdaBoostClassifier\n",
        "\n",
        "classificador_adaboost = AdaBoostClassifier(random_state=0, n_estimators=100)\n",
        "y_pred_adaboost = executar_classificador(classificador_adaboost, X_train, X_test, y_train)"
      ],
      "metadata": {
        "colab": {
          "base_uri": "https://localhost:8080/"
        },
        "id": "2gxM832TRaaw",
        "outputId": "5702e8c8-face-4f1f-8cfd-c275766466b7"
      },
      "execution_count": 102,
      "outputs": [
        {
          "output_type": "stream",
          "name": "stdout",
          "text": [
            "CPU times: user 3min 44s, sys: 279 ms, total: 3min 44s\n",
            "Wall time: 3min 54s\n"
          ]
        }
      ]
    },
    {
      "cell_type": "code",
      "source": [
        "validar_arvore(y_test, y_pred_adaboost)"
      ],
      "metadata": {
        "colab": {
          "base_uri": "https://localhost:8080/"
        },
        "id": "h-UPG5PCR6-2",
        "outputId": "449370a7-4fb7-4ac1-a9c5-0389b857c56d"
      },
      "execution_count": 103,
      "outputs": [
        {
          "output_type": "stream",
          "name": "stdout",
          "text": [
            "0.999403110845827\n",
            "0.8636363636363636\n",
            "0.7755102040816326\n",
            "[[28426     6]\n",
            " [   11    38]]\n"
          ]
        }
      ]
    },
    {
      "cell_type": "code",
      "source": [
        "%%time\n",
        "from sklearn.ensemble import AdaBoostClassifier\n",
        "\n",
        "classificador_adaboost = AdaBoostClassifier(random_state=0, n_estimators=200)\n",
        "y_pred_adaboost = executar_classificador(classificador_adaboost, X_train, X_test, y_train)"
      ],
      "metadata": {
        "colab": {
          "base_uri": "https://localhost:8080/"
        },
        "id": "JY5yDH89R9GT",
        "outputId": "4d324524-4275-4e3d-d8c8-4b531e5ad381"
      },
      "execution_count": 104,
      "outputs": [
        {
          "output_type": "stream",
          "name": "stdout",
          "text": [
            "CPU times: user 7min 44s, sys: 605 ms, total: 7min 45s\n",
            "Wall time: 8min 25s\n"
          ]
        }
      ]
    },
    {
      "cell_type": "code",
      "source": [
        "validar_arvore(y_test, y_pred_adaboost)"
      ],
      "metadata": {
        "colab": {
          "base_uri": "https://localhost:8080/"
        },
        "id": "0HZr2KzbSFln",
        "outputId": "9daada60-4201-4d01-ef2a-2aba65e4350b"
      },
      "execution_count": 105,
      "outputs": [
        {
          "output_type": "stream",
          "name": "stdout",
          "text": [
            "0.9995435553526912\n",
            "0.9285714285714286\n",
            "0.7959183673469388\n",
            "[[28429     3]\n",
            " [   10    39]]\n"
          ]
        }
      ]
    },
    {
      "cell_type": "markdown",
      "source": [
        "E obtivemos um bom resultado, um resultado similar ao **random forest**. A diferença é que o tempo de execução, você deve ter notado, demorou para rodar, Até mais que a primeira execução que fizemos do **random forest**."
      ],
      "metadata": {
        "id": "DArHTp_RTnuS"
      }
    },
    {
      "cell_type": "markdown",
      "source": [
        "# CONCLUSÕES\n",
        "\n",
        "---\n",
        "\n",
        "\n",
        "\n",
        "---\n",
        "\n",
        "\n",
        "\n",
        "\n",
        "###  agora depende muito da prioridade, se fôssemos escolher um para rodar, para resolver o nosso problema, será que preferimos um valor de precisão maior? No caso, seriam mais transações sendo detectadas como fraudes? Deixa passar menos transições que têm fraudes? Ou será que preferimos um valor de recall maior? Que seria menos ligações para o cliente dizendo que o cartão foi bloqueado sem motivo.\n",
        "\n",
        "\n",
        "---\n",
        "\n",
        "\n",
        "\n",
        "### Então depende muito da prioridade da nossa empresa, nesse caso. Então são 2 algoritmos super robustos que utilizam técnicas muito robustas, que são bagging e boosting, que nós podemos utilizar."
      ],
      "metadata": {
        "id": "ziy81V8AT4_-"
      }
    }
  ]
}